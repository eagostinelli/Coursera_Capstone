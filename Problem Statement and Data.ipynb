{
 "cells": [
  {
   "cell_type": "markdown",
   "metadata": {},
   "source": [
    "## Problem Statement \n",
    "Every time I want to visit a new city, I want to make sure that I can visit the most representative places (POI - Point of Interests). Moreover, I want to find a strategic place for my hotel (starting point) and grouping the visits per each day in the most efficient manner. In my hypothetical trip to Toronto, I have 10 days of travel to schedule, to make the most out of it.\n",
    "Therefore, with this project I want to: \n",
    "1. Find a method to cluster my POI, so that I can visit each day, places that are in the same area. \n",
    "2. Find a method to search for the best located hotel  \n",
    "\n",
    "## Data and Methodology \n",
    "1. Collection of POI from the following website: https://theculturetrip.com - **Web scraping using BeautifulSoup**\n",
    "2. Finding latitude and longitude of the POI found above - **Foursquare API call (Regular calls)**\n",
    "3. Clustering the POI - **K-means Clustering** \n",
    "4. Clustering the city centre POI - **K-means Clustering**\n",
    "5. Find the hotels around city centre - **Foursquare API call (Regular calls)**\n",
    "6. Find Details around the hotels - **Foursquare API call (Premium calls)**\n",
    "7. Find the best located hotel - **Google Maps, Directions API**\n",
    "8. Show photos of the top 5 hotels - using data collected in point 6\n"
   ]
  },
  {
   "cell_type": "code",
   "execution_count": null,
   "metadata": {},
   "outputs": [],
   "source": []
  }
 ],
 "metadata": {
  "kernelspec": {
   "display_name": "Python 3",
   "language": "python",
   "name": "python3"
  },
  "language_info": {
   "codemirror_mode": {
    "name": "ipython",
    "version": 3
   },
   "file_extension": ".py",
   "mimetype": "text/x-python",
   "name": "python",
   "nbconvert_exporter": "python",
   "pygments_lexer": "ipython3",
   "version": "3.6.5"
  }
 },
 "nbformat": 4,
 "nbformat_minor": 2
}
